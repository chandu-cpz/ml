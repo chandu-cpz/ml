{
 "cells": [
  {
   "cell_type": "markdown",
   "metadata": {},
   "source": [
    "# Data Augmentation"
   ]
  },
  {
   "cell_type": "markdown",
   "metadata": {},
   "source": [
    "# Import Libs\n"
   ]
  },
  {
   "cell_type": "code",
   "execution_count": 2,
   "metadata": {},
   "outputs": [],
   "source": [
    "import warnings\n",
    "warnings.filterwarnings('ignore')"
   ]
  },
  {
   "cell_type": "code",
   "execution_count": 3,
   "metadata": {},
   "outputs": [],
   "source": [
    "from tensorflow.keras.preprocessing.image import ImageDataGenerator"
   ]
  },
  {
   "cell_type": "markdown",
   "metadata": {},
   "source": [
    " Data Augementation for training and testing "
   ]
  },
  {
   "cell_type": "code",
   "execution_count": 4,
   "metadata": {},
   "outputs": [],
   "source": [
    "train_datagen = ImageDataGenerator(rescale=1./255,zoom_range= 0.2, horizontal_flip= True)\n",
    "test_datagen = ImageDataGenerator(rescale= 1.255)"
   ]
  },
  {
   "cell_type": "code",
   "execution_count": 7,
   "metadata": {},
   "outputs": [
    {
     "name": "stdout",
     "output_type": "stream",
     "text": [
      "Found 1238 images belonging to 4 classes.\n",
      "Found 326 images belonging to 4 classes.\n"
     ]
    }
   ],
   "source": [
    "x_train = train_datagen.flow_from_directory('../datasets/animal_dataset/Training',\n",
    "                                            target_size = (64,64),\n",
    "                                            class_mode = 'categorical',\n",
    "                                            batch_size = 100)\n",
    "x_test = test_datagen.flow_from_directory('../datasets/animal_dataset/Testing',\n",
    "                                            target_size = (64,64),\n",
    "                                            class_mode = 'categorical',\n",
    "                                            batch_size = 100)"
   ]
  },
  {
   "cell_type": "markdown",
   "metadata": {},
   "source": [
    "# CNN Model Building "
   ]
  },
  {
   "cell_type": "code",
   "execution_count": 9,
   "metadata": {},
   "outputs": [],
   "source": [
    "from tensorflow.keras.models import Sequential\n",
    "from tensorflow.keras.layers import Convolution2D, MaxPooling2D, Flatten, Dense"
   ]
  },
  {
   "cell_type": "markdown",
   "metadata": {},
   "source": [
    "Adding layers"
   ]
  },
  {
   "cell_type": "code",
   "execution_count": 10,
   "metadata": {},
   "outputs": [],
   "source": [
    "model = Sequential()\n",
    "\n",
    "\n",
    "model.add(Convolution2D(32,(3,3), activation= 'relu', input_shape= (64, 64, 3))) # Convulation Layer\n",
    "model.add(MaxPooling2D(pool_size=(2,2))) #Max Pooling\n",
    "model.add(Flatten()) #Flatten Layer\n",
    "\n",
    "model.add(Dense(256, activation= 'relu')) # Hidden layer 1\n",
    "model.add(Dense(128, activation= 'relu')) # Hidden layer 2\n",
    "\n",
    "model.add(Dense(4, activation= 'softmax')) # Output layer\n"
   ]
  },
  {
   "cell_type": "code",
   "execution_count": 13,
   "metadata": {},
   "outputs": [],
   "source": [
    "#compiling the model\n",
    "model.compile(optimizer= 'adam', loss= 'categorical_crossentropy', metrics= 'accuracy')"
   ]
  },
  {
   "cell_type": "code",
   "execution_count": 15,
   "metadata": {},
   "outputs": [
    {
     "name": "stdout",
     "output_type": "stream",
     "text": [
      "Epoch 1/30\n",
      "13/13 [==============================] - 3s 265ms/step - loss: 0.5539 - accuracy: 0.7843 - val_loss: 61.5495 - val_accuracy: 0.7761\n",
      "Epoch 2/30\n",
      "13/13 [==============================] - 3s 251ms/step - loss: 0.5113 - accuracy: 0.8021 - val_loss: 56.5657 - val_accuracy: 0.8006\n",
      "Epoch 3/30\n",
      "13/13 [==============================] - 5s 426ms/step - loss: 0.4616 - accuracy: 0.8376 - val_loss: 63.3020 - val_accuracy: 0.8067\n",
      "Epoch 4/30\n",
      "13/13 [==============================] - 9s 735ms/step - loss: 0.4485 - accuracy: 0.8312 - val_loss: 106.6728 - val_accuracy: 0.7209\n",
      "Epoch 5/30\n",
      "13/13 [==============================] - 7s 547ms/step - loss: 0.4277 - accuracy: 0.8417 - val_loss: 64.9252 - val_accuracy: 0.8067\n",
      "Epoch 6/30\n",
      "13/13 [==============================] - 5s 438ms/step - loss: 0.3925 - accuracy: 0.8554 - val_loss: 32.5270 - val_accuracy: 0.8773\n",
      "Epoch 7/30\n",
      "13/13 [==============================] - 5s 407ms/step - loss: 0.3758 - accuracy: 0.8683 - val_loss: 36.0294 - val_accuracy: 0.8681\n",
      "Epoch 8/30\n",
      "13/13 [==============================] - 5s 424ms/step - loss: 0.3777 - accuracy: 0.8562 - val_loss: 80.3417 - val_accuracy: 0.7853\n",
      "Epoch 9/30\n",
      "13/13 [==============================] - 7s 536ms/step - loss: 0.3269 - accuracy: 0.8877 - val_loss: 68.2063 - val_accuracy: 0.8313\n",
      "Epoch 10/30\n",
      "13/13 [==============================] - 6s 499ms/step - loss: 0.2961 - accuracy: 0.8974 - val_loss: 58.6169 - val_accuracy: 0.8190\n",
      "Epoch 11/30\n",
      "13/13 [==============================] - 7s 522ms/step - loss: 0.2611 - accuracy: 0.9144 - val_loss: 79.0927 - val_accuracy: 0.8160\n",
      "Epoch 12/30\n",
      "13/13 [==============================] - 6s 456ms/step - loss: 0.2330 - accuracy: 0.9184 - val_loss: 41.8717 - val_accuracy: 0.8742\n",
      "Epoch 13/30\n",
      "13/13 [==============================] - 8s 625ms/step - loss: 0.2345 - accuracy: 0.9184 - val_loss: 73.5802 - val_accuracy: 0.8589\n",
      "Epoch 14/30\n",
      "13/13 [==============================] - 8s 625ms/step - loss: 0.2401 - accuracy: 0.9225 - val_loss: 74.6873 - val_accuracy: 0.8129\n",
      "Epoch 15/30\n",
      "13/13 [==============================] - 9s 699ms/step - loss: 0.2460 - accuracy: 0.9128 - val_loss: 130.8703 - val_accuracy: 0.7883\n",
      "Epoch 16/30\n",
      "13/13 [==============================] - 6s 444ms/step - loss: 0.1978 - accuracy: 0.9354 - val_loss: 115.5380 - val_accuracy: 0.8374\n",
      "Epoch 17/30\n",
      "13/13 [==============================] - 6s 431ms/step - loss: 0.1796 - accuracy: 0.9467 - val_loss: 70.2252 - val_accuracy: 0.8620\n",
      "Epoch 18/30\n",
      "13/13 [==============================] - 6s 513ms/step - loss: 0.1451 - accuracy: 0.9596 - val_loss: 79.0906 - val_accuracy: 0.8558\n",
      "Epoch 19/30\n",
      "13/13 [==============================] - 6s 444ms/step - loss: 0.1428 - accuracy: 0.9580 - val_loss: 107.7122 - val_accuracy: 0.8160\n",
      "Epoch 20/30\n",
      "13/13 [==============================] - 6s 438ms/step - loss: 0.1321 - accuracy: 0.9596 - val_loss: 124.8228 - val_accuracy: 0.8313\n",
      "Epoch 21/30\n",
      "13/13 [==============================] - 6s 429ms/step - loss: 0.1408 - accuracy: 0.9612 - val_loss: 137.6922 - val_accuracy: 0.8374\n",
      "Epoch 22/30\n",
      "13/13 [==============================] - 6s 427ms/step - loss: 0.1194 - accuracy: 0.9645 - val_loss: 104.1062 - val_accuracy: 0.8405\n",
      "Epoch 23/30\n",
      "13/13 [==============================] - 5s 428ms/step - loss: 0.1038 - accuracy: 0.9733 - val_loss: 96.0986 - val_accuracy: 0.8650\n",
      "Epoch 24/30\n",
      "13/13 [==============================] - 6s 444ms/step - loss: 0.1134 - accuracy: 0.9548 - val_loss: 185.8946 - val_accuracy: 0.7945\n",
      "Epoch 25/30\n",
      "13/13 [==============================] - 6s 446ms/step - loss: 0.1176 - accuracy: 0.9628 - val_loss: 124.8708 - val_accuracy: 0.8374\n",
      "Epoch 26/30\n",
      "13/13 [==============================] - 6s 438ms/step - loss: 0.0938 - accuracy: 0.9790 - val_loss: 110.5182 - val_accuracy: 0.8436\n",
      "Epoch 27/30\n",
      "13/13 [==============================] - 6s 438ms/step - loss: 0.0860 - accuracy: 0.9798 - val_loss: 172.8746 - val_accuracy: 0.8221\n",
      "Epoch 28/30\n",
      "13/13 [==============================] - 6s 422ms/step - loss: 0.0885 - accuracy: 0.9782 - val_loss: 174.5602 - val_accuracy: 0.8313\n",
      "Epoch 29/30\n",
      "13/13 [==============================] - 6s 433ms/step - loss: 0.1139 - accuracy: 0.9628 - val_loss: 132.3475 - val_accuracy: 0.8221\n",
      "Epoch 30/30\n",
      "13/13 [==============================] - 6s 433ms/step - loss: 0.0774 - accuracy: 0.9758 - val_loss: 201.4462 - val_accuracy: 0.8221\n"
     ]
    },
    {
     "data": {
      "text/plain": [
       "<keras.src.callbacks.History at 0x7fcf503c7fd0>"
      ]
     },
     "execution_count": 15,
     "metadata": {},
     "output_type": "execute_result"
    }
   ],
   "source": [
    "#Train the model \n",
    "model.fit_generator(x_train, steps_per_epoch= , epochs= 39, validation_data=x_test, validation_steps= len(x_test))"
   ]
  },
  {
   "cell_type": "markdown",
   "metadata": {},
   "source": [
    "# Save the model \n"
   ]
  },
  {
   "cell_type": "code",
   "execution_count": 16,
   "metadata": {},
   "outputs": [],
   "source": [
    "model.save('animal.h5')"
   ]
  },
  {
   "cell_type": "markdown",
   "metadata": {},
   "source": [
    "# Test the model \n"
   ]
  },
  {
   "cell_type": "code",
   "execution_count": 17,
   "metadata": {},
   "outputs": [],
   "source": [
    "from tensorflow.keras.preprocessing import image\n",
    "import numpy as np"
   ]
  },
  {
   "cell_type": "code",
   "execution_count": 22,
   "metadata": {},
   "outputs": [
    {
     "data": {
      "image/png": "[encoded data removed]",
      "text/plain": [
       "<PIL.Image.Image image mode=RGB size=64x64>"
      ]
     },
     "execution_count": 22,
     "metadata": {},
     "output_type": "execute_result"
    }
   ],
   "source": [
    "img = image.load_img('../datasets/animal_dataset/Testing/elephants/Z (1).jpeg', target_size= (64,64))\n",
    "img\n"
   ]
  },
  {
   "cell_type": "code",
   "execution_count": 23,
   "metadata": {},
   "outputs": [
    {
     "name": "stdout",
     "output_type": "stream",
     "text": [
      "1/1 [==============================] - 0s 15ms/step\n"
     ]
    },
    {
     "data": {
      "text/plain": [
       "'Elephants'"
      ]
     },
     "execution_count": 23,
     "metadata": {},
     "output_type": "execute_result"
    }
   ],
   "source": [
    "x = image.img_to_array(img)\n",
    "\n",
    "# Dimension expansion\n",
    "\n",
    "x = np.expand_dims(x, axis=0)\n",
    "pred = np.argmax(model.predict(x))\n",
    "op = ['Bears', 'Crows', 'Elephants', 'Rats']\n",
    "op[pred]"
   ]
  },
  {
   "cell_type": "code",
   "execution_count": null,
   "metadata": {},
   "outputs": [],
   "source": []
  }
 ],
 "metadata": {
  "kernelspec": {
   "display_name": "Python 3",
   "language": "python",
   "name": "python3"
  },
  "language_info": {
   "codemirror_mode": {
    "name": "ipython",
    "version": 3
   },
   "file_extension": ".py",
   "mimetype": "text/x-python",
   "name": "python",
   "nbconvert_exporter": "python",
   "pygments_lexer": "ipython3",
   "version": "3.11.2"
  }
 },
 "nbformat": 4,
 "nbformat_minor": 2
}
